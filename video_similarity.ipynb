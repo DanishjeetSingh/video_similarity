{
 "cells": [
  {
   "cell_type": "markdown",
   "id": "d21e70af",
   "metadata": {},
   "source": [
    "## to apply DCT(Discrete Cosine Transformation) on each frame of a video"
   ]
  },
  {
   "cell_type": "code",
   "execution_count": 21,
   "id": "df37c5f8",
   "metadata": {},
   "outputs": [],
   "source": [
    "import cv2\n",
    "from scipy.fftpack import dct, idct\n",
    "import numpy as np"
   ]
  },
  {
   "cell_type": "code",
   "execution_count": 22,
   "id": "4fb554e1",
   "metadata": {},
   "outputs": [],
   "source": [
    "video = cv2.VideoCapture('datasets/tiktoks/tom_and_jerry_tiktok.mp4')\n",
    "success, image = video.read()\n",
    "gray_image = cv2.cvtColor(image, cv2.COLOR_BGR2GRAY)"
   ]
  },
  {
   "cell_type": "code",
   "execution_count": 23,
   "id": "30c17665",
   "metadata": {},
   "outputs": [],
   "source": [
    "def get_dct_feature_vector(frame):\n",
    "    \"\"\"\n",
    "    Computes the DCT feature vector of a video frame.\n",
    "    \n",
    "    Parameters:\n",
    "    frame: ndarray of shape (height, width, n_channels)\n",
    "        Video frame.\n",
    "    \n",
    "    Returns:\n",
    "    ndarray of shape (n_features,)\n",
    "        DCT feature vector.\n",
    "    \"\"\"\n",
    "    # Convert the frame to grayscale\n",
    "#     gray = cv2.cvtColor(frame, cv2.COLOR_BGR2GRAY)\n",
    "    \n",
    "    # Compute the 2D DCT of the grayscale image\n",
    "    dct = cv2.dct(frame.astype(np.float32))\n",
    "    \n",
    "    # Flatten the DCT coefficients into a 1D array\n",
    "    dct_flat = dct.flatten()\n",
    "    \n",
    "    return dct_flat\n"
   ]
  },
  {
   "cell_type": "code",
   "execution_count": 24,
   "id": "39bbc0f0",
   "metadata": {},
   "outputs": [],
   "source": [
    "def get_mean_feature_vector(frames):\n",
    "    \"\"\"\n",
    "    Computes the mean feature vector of an ensemble of video frames.\n",
    "    \n",
    "    Parameters:\n",
    "    frames: list of ndarrays of shape (height, width, n_channels)\n",
    "        List of video frames.\n",
    "    \n",
    "    Returns:\n",
    "    ndarray of shape (n_features,)\n",
    "        Mean feature vector.\n",
    "    \"\"\"\n",
    "    # Compute the DCT feature vectors for all frames\n",
    "    features = [get_dct_feature_vector(frame) for frame in frames]\n",
    "    \n",
    "    # Compute the mean feature vector\n",
    "    mean = np.mean(features, axis=0)\n",
    "    \n",
    "    return mean\n"
   ]
  },
  {
   "cell_type": "code",
   "execution_count": 25,
   "id": "4f6e08d0",
   "metadata": {},
   "outputs": [],
   "source": [
    "def get_diagonal_covariance_matrix(frames):\n",
    "    \"\"\"\n",
    "    Computes the diagonal covariance matrix of an ensemble of video frames.\n",
    "    \n",
    "    Parameters:\n",
    "    frames: list of ndarrays of shape (height, width, n_channels)\n",
    "        List of video frames.\n",
    "    \n",
    "    Returns:\n",
    "    ndarray of shape (n_features,)\n",
    "        Diagonal covariance matrix.\n",
    "    \"\"\"\n",
    "    # Compute the DCT feature vectors for all frames\n",
    "    features = [get_dct_feature_vector(frame) for frame in frames]\n",
    "    \n",
    "    # Compute the variance of each element in the DCT feature vectors\n",
    "    variances = np.var(features, axis=0)\n",
    "    \n",
    "    # Construct a diagonal matrix from the variances\n",
    "    diagonal_covariance_matrix = np.diag(variances)\n",
    "    \n",
    "    return diagonal_covariance_matrix\n"
   ]
  },
  {
   "cell_type": "code",
   "execution_count": 26,
   "id": "a8ba9508",
   "metadata": {},
   "outputs": [
    {
     "data": {
      "text/plain": [
       "array([[4.1440460e+06, 0.0000000e+00, 0.0000000e+00, ..., 0.0000000e+00,\n",
       "        0.0000000e+00, 0.0000000e+00],\n",
       "       [0.0000000e+00, 2.6200400e+05, 0.0000000e+00, ..., 0.0000000e+00,\n",
       "        0.0000000e+00, 0.0000000e+00],\n",
       "       [0.0000000e+00, 0.0000000e+00, 6.6077977e+04, ..., 0.0000000e+00,\n",
       "        0.0000000e+00, 0.0000000e+00],\n",
       "       ...,\n",
       "       [0.0000000e+00, 0.0000000e+00, 0.0000000e+00, ..., 2.1295710e+00,\n",
       "        0.0000000e+00, 0.0000000e+00],\n",
       "       [0.0000000e+00, 0.0000000e+00, 0.0000000e+00, ..., 0.0000000e+00,\n",
       "        1.7613146e+00, 0.0000000e+00],\n",
       "       [0.0000000e+00, 0.0000000e+00, 0.0000000e+00, ..., 0.0000000e+00,\n",
       "        0.0000000e+00, 1.3129641e+00]], dtype=float32)"
      ]
     },
     "execution_count": 26,
     "metadata": {},
     "output_type": "execute_result"
    }
   ],
   "source": [
    "get_diagonal_covariance_matrix(gray_image)"
   ]
  },
  {
   "cell_type": "code",
   "execution_count": 1,
   "id": "fb645e53",
   "metadata": {},
   "outputs": [],
   "source": [
    "import numpy as np\n",
    "from scipy.stats import norm\n",
    "\n",
    "def gaussian_query_model(X, fi, Z):\n",
    "    \"\"\"\n",
    "    Computes the similarity score between an arbitrary video frame and a query video segment using the Gaussian Query Model.\n",
    "    \n",
    "    Parameters:\n",
    "    X: ndarray of shape (n_features,)\n",
    "        DCT feature vector of the video frame.\n",
    "    fi: ndarray of shape (n_features,)\n",
    "        Mean feature vector of the Gaussian distribution.\n",
    "    Z: ndarray of shape (n_features,)\n",
    "        Diagonal covariance matrix of the Gaussian distribution.\n",
    "    \n",
    "    Returns:\n",
    "    float\n",
    "        Similarity score between zero and one.\n",
    "    \"\"\"\n",
    "    z = np.square(np.linalg.norm(X - fi)) / np.square(np.linalg.norm(Z))\n",
    "    score = 1 - norm.cdf(z)\n",
    "    return score\n"
   ]
  },
  {
   "cell_type": "code",
   "execution_count": 3,
   "id": "f9804fd9",
   "metadata": {},
   "outputs": [],
   "source": [
    "import cv2\n",
    "import numpy as np\n",
    "\n",
    "# Open the video file\n",
    "video = cv2.VideoCapture('datasets/tiktoks/tom_and_jerry_tiktok.mp4')\n",
    "\n",
    "# List to store feature vectors (X) for each frame\n",
    "feature_vectors = []\n",
    "\n",
    "# Loop through frames and extract DCT features\n",
    "while True:\n",
    "    success, image = video.read()\n",
    "    if not success:\n",
    "        break\n",
    "    gray_image = cv2.cvtColor(image, cv2.COLOR_BGR2GRAY)\n",
    "\n",
    "    # Perform DCT on the grayscale frame to get feature vector X\n",
    "    dct_features = cv2.dct(np.float32(gray_image))\n",
    "\n",
    "    # Append the DCT feature vector to the list\n",
    "    feature_vectors.append(dct_features)\n",
    "\n",
    "# Stack the feature vectors into a numpy array\n",
    "feature_vectors = np.array(feature_vectors)\n",
    "# feature_vectors = feature_vectors.reshape(len(feature_vectors), -1)\n",
    "# # Compute the mean (fi) and covariance matrix (Z)\n",
    "# fi = np.mean(feature_vectors, axis=0)\n",
    "# Z = np.cov(feature_vectors, rowvar=False)\n",
    "\n",
    "# Now you have X, fi, and Z for the video frames\n"
   ]
  },
  {
   "cell_type": "code",
   "execution_count": 4,
   "id": "5dca6cc2",
   "metadata": {},
   "outputs": [
    {
     "data": {
      "text/plain": [
       "2207"
      ]
     },
     "execution_count": 4,
     "metadata": {},
     "output_type": "execute_result"
    }
   ],
   "source": [
    "len(feature_vectors)"
   ]
  },
  {
   "cell_type": "code",
   "execution_count": 12,
   "id": "f1734249",
   "metadata": {},
   "outputs": [],
   "source": [
    "num_coefficients_to_keep = 30\n",
    "\n",
    "# Initialize a list to store reduced DCT feature vectors\n",
    "reduced_feature_vectors = []\n",
    "\n",
    "# Loop through the original DCT feature vectors\n",
    "for dct_features in feature_vectors:\n",
    "    # Flatten the 2D DCT feature vector to a 1D array\n",
    "    flattened_features = dct_features.flatten()\n",
    "\n",
    "    # Keep the first 'num_coefficients_to_keep' coefficients\n",
    "    reduced_features = flattened_features[:num_coefficients_to_keep]\n",
    "\n",
    "    # Append the reduced feature vector to the list\n",
    "    reduced_feature_vectors.append(reduced_features)"
   ]
  },
  {
   "cell_type": "code",
   "execution_count": 14,
   "id": "d9650069",
   "metadata": {},
   "outputs": [
    {
     "data": {
      "text/plain": [
       "array([ 5.6568828e+04, -2.2924290e+03, -1.2859888e+02,  7.7700446e+02,\n",
       "        3.2490677e+02,  1.0842490e+03,  1.0840892e+03,  1.1373260e+03,\n",
       "        5.3247943e+02,  2.5150027e+02,  1.0463481e+02,  1.8450529e+02,\n",
       "       -1.5336316e+02,  3.2883893e+02,  5.8651660e+02,  3.5167456e+02,\n",
       "        7.7575310e+01,  2.5430179e+02, -5.8046130e+02,  2.6745441e+02,\n",
       "        4.4231434e+01, -2.0824574e-01, -2.5066266e+02, -2.1156836e+02,\n",
       "       -1.7688683e+02, -1.0417820e+02,  3.2860790e+01, -3.3824768e+02,\n",
       "       -3.0170195e+01,  4.2006760e+02], dtype=float32)"
      ]
     },
     "execution_count": 14,
     "metadata": {},
     "output_type": "execute_result"
    }
   ],
   "source": []
  },
  {
   "cell_type": "code",
   "execution_count": null,
   "id": "c0efd3b0",
   "metadata": {},
   "outputs": [],
   "source": []
  }
 ],
 "metadata": {
  "kernelspec": {
   "display_name": "Python 3 (ipykernel)",
   "language": "python",
   "name": "python3"
  },
  "language_info": {
   "codemirror_mode": {
    "name": "ipython",
    "version": 3
   },
   "file_extension": ".py",
   "mimetype": "text/x-python",
   "name": "python",
   "nbconvert_exporter": "python",
   "pygments_lexer": "ipython3",
   "version": "3.9.7"
  }
 },
 "nbformat": 4,
 "nbformat_minor": 5
}
